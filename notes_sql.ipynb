{
  "nbformat": 4,
  "nbformat_minor": 0,
  "metadata": {
    "colab": {
      "provenance": [],
      "authorship_tag": "ABX9TyPs7vpd91VU8UNW0aSfBA2d",
      "include_colab_link": true
    },
    "kernelspec": {
      "name": "python3",
      "display_name": "Python 3"
    },
    "language_info": {
      "name": "python"
    }
  },
  "cells": [
    {
      "cell_type": "markdown",
      "metadata": {
        "id": "view-in-github",
        "colab_type": "text"
      },
      "source": [
        "<a href=\"https://colab.research.google.com/github/klovak96/test_bot_tg/blob/main/notes_sql.ipynb\" target=\"_parent\"><img src=\"https://colab.research.google.com/assets/colab-badge.svg\" alt=\"Open In Colab\"/></a>"
      ]
    },
    {
      "cell_type": "markdown",
      "source": [
        "# **SQL основы**"
      ],
      "metadata": {
        "id": "3xU-31yszSY3"
      }
    },
    {
      "cell_type": "code",
      "source": [
        "from\n",
        "on\n",
        "join\n",
        "where\n",
        "group by\n",
        "having\n",
        "over\n",
        "select\n",
        "order by"
      ],
      "metadata": {
        "id": "xb5e3QHXO3W5"
      },
      "execution_count": null,
      "outputs": []
    },
    {
      "cell_type": "markdown",
      "source": [
        "### *Примеры из итоговой*"
      ],
      "metadata": {
        "id": "OTKbOkNmD_u8"
      }
    },
    {
      "cell_type": "code",
      "source": [
        "/* 1.\n",
        " * Выведите название самолетов, которые имеют менее 50 посадочных мест?\n",
        " */\n",
        "explain analyze\n",
        "select a.aircraft_code, a.model\n",
        "from (select s.aircraft_code\n",
        "\t  from seats s\n",
        "\t  group by s.aircraft_code\n",
        "\t  having count(s.seat_no) < 50) s\n",
        "join aircrafts a on s.aircraft_code = a.aircraft_code\n",
        "\n",
        "\n",
        "/* 2.\n",
        " * Выведите процентное изменение ежемесячной суммы бронирования билетов, округленной до сотых.\n",
        " */\n",
        "explain analyze\n",
        "\n",
        "with recursive r as (\n",
        "\tselect min(date_trunc('month', book_date)) as x\n",
        "\tfrom bookings\n",
        "\tunion\n",
        "\tselect x + interval '1 month' as x\n",
        "\tfrom r\n",
        "\twhere x <(select max(date_trunc('month', book_date)) from bookings))\n",
        "select concat(date_part('year', x::date), '-', date_part('month', x::date)),\n",
        "       round(((b.sum - lag(b.sum) over (order by x))/lag(b.sum) over (order by x))*100, 2) as \"изменение в %\"\n",
        "from r\n",
        "left join(\n",
        "\tselect date_trunc('month', book_date) as dt, sum(total_amount)\n",
        "\tfrom bookings\n",
        "\tgroup by date_trunc('month', book_date)) b on b.dt = r.x\n",
        "order by x::date\n",
        "\n",
        "\n",
        "\n",
        "/* 3.\n",
        " * Выведите названия самолетов не имеющих бизнес - класс. Решение должно быть через функцию array_agg.\n",
        " */\n",
        "\n",
        "select a.aircraft_code, a.model\n",
        "from (select s.aircraft_code, array_agg(s.fare_conditions)\n",
        "\t  from seats s\n",
        "\t  group by s.aircraft_code) s\n",
        "join aircrafts a on s.aircraft_code = a.aircraft_code\n",
        "where not 'Business' = any(s.array_agg)\n",
        "\n",
        "/* 4.\n",
        " * Вывести накопительный итог количества мест в самолетах по каждому аэропорту на каждый день,\n",
        " * учитывая только те самолеты, которые летали пустыми и только те дни, где из одного аэропорта таких самолетов вылетало более одного.\n",
        " * В результате должны быть код аэропорта, дата, количество пустых мест в самолете и накопительный итог.\n",
        " */\n",
        "\n",
        "with cte as(\n",
        "\tselect f.flight_id, f.actual_departure, f.departure_airport, f.aircraft_code\n",
        "\tfrom flights f\n",
        "\tleft join boarding_passes bp on bp.flight_id = f.flight_id\n",
        "\twhere bp.flight_id is null and f.actual_departure is not null),\n",
        "cte1 as(\n",
        "\tselect s.aircraft_code, count(s.seat_no) as cs\n",
        "\tfrom seats s\n",
        "\tgroup by s.aircraft_code),\n",
        "cte2 as(\n",
        "\tselect cte.actual_departure::date, cte.departure_airport, array_agg(cte.flight_id)\n",
        "\tfrom cte\n",
        "\tgroup by cte.departure_airport, cte.actual_departure::date\n",
        "\thaving count(cte.flight_id) > 1)\n",
        "select cte.departure_airport as \"код аэропорта\",\n",
        "\t   cte.actual_departure as \"дата\",\n",
        "\t   cte1.cs as \"количество пустых мест в самолете\",\n",
        "\t   sum(cte1.cs) over (partition by cte.departure_airport, cte.actual_departure::date order by cte.actual_departure) as \"накопительный итог\"\n",
        "from cte2\n",
        "join cte on cte.flight_id =any(cte2.array_agg)\n",
        "join cte1 on cte.aircraft_code = cte1.aircraft_code\n",
        "\n",
        "\n",
        "/* 5.\n",
        " * Найдите процентное соотношение перелетов по маршрутам от общего количества перелетов.\n",
        " * Выведите в результат названия аэропортов и процентное отношение.\n",
        " * Решение должно быть через оконную функцию.\n",
        " */\n",
        "explain analyze\n",
        "select a.airport_name as \"Вылет\",\n",
        "\t   b.airport_name as \"Прилет\",\n",
        "\t   (count(f.flight_id)/sum(count(f.flight_id)) over () )*100 as \"% от всех полетов\"\n",
        "from flights f\n",
        "left join airports a on a.airport_code = f.departure_airport\n",
        "left join airports b on b.airport_code = f.arrival_airport\n",
        "group by  a.airport_name, b.airport_name\n",
        "\n",
        "\n",
        "/* 6.\n",
        " * Выведите количество пассажиров по каждому коду сотового оператора, если учесть, что код оператора - это три символа после +7\n",
        " */\n",
        "\n",
        "select c.code, count(c.code)\n",
        "from(select left(split_part(contact_data->>'phone', '+7',2),3) as code\n",
        "\t from tickets) c\n",
        "group by c.code\n",
        "\n",
        "\n",
        "/* 7.\n",
        " * Классифицируйте финансовые обороты (сумма стоимости перелетов) по маршрутам:\n",
        " * До 50 млн - low\n",
        " * От 50 млн включительно до 150 млн - middle\n",
        " * От 150 млн включительно - high\n",
        " * Выведите в результат количество маршрутов в каждом полученном классе\n",
        " */\n",
        "\n",
        "explain analyze\n",
        "with cte1 as(\n",
        "\tselect f.departure_airport, f.arrival_airport, sum(amount)\n",
        "\tfrom ticket_flights tf\n",
        "\tjoin flights f on f.flight_id = tf.flight_id\n",
        "\tgroup by f.departure_airport, f.arrival_airport),\n",
        "cte2 as(\n",
        "\tselect cte1.departure_airport, cte1.arrival_airport,\n",
        "\t\t   case\n",
        "\t\t\t\twhen sum < 50000000 then 'low'\n",
        "\t\t\t\twhen sum >= 50000000 and sum < 150000000 then 'middle'\n",
        "\t\t\t\telse 'high'\n",
        "\t\t   end\tcase1\n",
        "\t\t   from cte1)\n",
        "select case1, count(case1)\n",
        "from cte2\n",
        "group by case1\n",
        "\n",
        "\n",
        "/* 8.\n",
        " * Вычислите медиану стоимости перелетов, медиану размера бронирования и отношение\n",
        " * медианы бронирования к медиане стоимости перелетов, округленной до сотых\n",
        " */\n",
        "explain analyze\n",
        "\n",
        "select m1.ma as \"медиану стоимости перелетов\",\n",
        "\t   m2.mta as \"медиану размера бронирования\",\n",
        "\t   round((m2.mta/m1.ma)::numeric,2) as \"отношение\"\n",
        "from (select percentile_cont(0.5) within group(order by tf.amount) as ma\n",
        "\t from ticket_flights tf) m1,\n",
        "\t (select percentile_cont(0.5) within group(order by b.total_amount) as mta\n",
        "\t from bookings b) m2\n",
        "\n",
        "\n",
        "/* 9.\n",
        " * Найдите значение минимальной стоимости полета 1 км для пассажиров.\n",
        " * То есть нужно найти расстояние между аэропортами и с учетом стоимости перелетов получить искомый результат\n",
        " * Для поиска расстояния между двумя точками на поверхности Земли используется модуль earthdistance.\n",
        " * Для работы модуля earthdistance необходимо предварительно установить модуль cube.\n",
        " * Установка модулей происходит через команду: create extension название_модуля.\n",
        " */\n",
        "create extension cube\n",
        "\n",
        "create extension earthdistance\n",
        "\n",
        "explain analyze\n",
        "with cte as(\n",
        "\tselect f.flight_id, f.departure_airport, f.arrival_airport\n",
        "\tfrom flights f),\n",
        "cte1 as(\n",
        "\tselect cte.departure_airport, cte.arrival_airport, min(t.amount)\n",
        "\tfrom cte\n",
        "\tjoin ticket_flights t on t.flight_id = cte.flight_id\n",
        "\tgroup by cte.departure_airport, cte.arrival_airport)\n",
        "select min/(earth_distance (ll_to_earth ( ad.latitude, ad.longitude), ll_to_earth ( aa.latitude, aa.longitude))/1000) as price1km\n",
        "from cte1\n",
        "join airports ad on ad.airport_code = cte1.departure_airport\n",
        "join airports aa on aa.airport_code = cte1.arrival_airport\n",
        "order by price1km\n",
        "limit 1\n",
        "\n"
      ],
      "metadata": {
        "id": "gWg1u-WSDyhp"
      },
      "execution_count": null,
      "outputs": []
    },
    {
      "cell_type": "markdown",
      "source": [
        "### **Оконные функции**"
      ],
      "metadata": {
        "id": "OBSLs3BKD5LZ"
      }
    },
    {
      "cell_type": "code",
      "execution_count": null,
      "metadata": {
        "id": "OborRF7izOZB"
      },
      "outputs": [],
      "source": [
        "over () - все данные глобально в хаотичном порядке\n",
        "over (partition by) - по группам отдельно в хаотичном порядке\n",
        "over (order by) - все данные глобально в определенной последовательности передам данные в функцию\n",
        "over (partition by  order by)  по группам отдельно в определенной последовательности передам данные в функцию\n"
      ]
    },
    {
      "cell_type": "markdown",
      "source": [
        "### **explain**"
      ],
      "metadata": {
        "id": "m7ycWhjuEIlo"
      }
    },
    {
      "cell_type": "code",
      "source": [
        "https://tatiyants.com/pev/\n",
        "\n",
        "explain (analyze, buffers) --2148.35 / 11\n",
        "\tselect..."
      ],
      "metadata": {
        "id": "RR6uKQ-GEITZ"
      },
      "execution_count": null,
      "outputs": []
    },
    {
      "cell_type": "markdown",
      "source": [
        "### **json**"
      ],
      "metadata": {
        "id": "e8yB3lUEjCfc"
      }
    },
    {
      "cell_type": "code",
      "source": [
        "INSERT INTO orders (info)\n",
        "VALUES\n",
        " (\n",
        "'{\"items\": {\"product\": \"Beer\",\"qty\": 6,\"a\":345}, \"customer\": \"John Doe\"}'\n",
        " ),\n",
        " (\n",
        "'{ \"customer\": \"Lily Bush\", \"items\": {\"product\": \"Diaper\",\"qty\": 24.5}}'\n",
        " ),\n",
        " (\n",
        "'{ \"customer\": \"Josh William\", \"items\": {\"product\": \"Toy Car\",\"qty\": 1}}'\n",
        " ),\n",
        " (\n",
        "'{ \"customer\": \"Mary Clark\", \"items\": {\"product\": \"Toy Train\",\"qty\": 2}}'\n",
        " );\n",
        "\n",
        "select info->'items'->'qty', pg_typeof(info->'items'->'qty')\n",
        "from orders"
      ],
      "metadata": {
        "colab": {
          "base_uri": "https://localhost:8080/",
          "height": 105
        },
        "id": "11wSVkNfE3Ku",
        "outputId": "18527882-9769-47a3-aad0-be69c4e1e3c1"
      },
      "execution_count": null,
      "outputs": [
        {
          "output_type": "error",
          "ename": "SyntaxError",
          "evalue": "invalid syntax (<ipython-input-1-1dd7c8e07fa6>, line 1)",
          "traceback": [
            "\u001b[0;36m  File \u001b[0;32m\"<ipython-input-1-1dd7c8e07fa6>\"\u001b[0;36m, line \u001b[0;32m1\u001b[0m\n\u001b[0;31m    select info->'items'->'qty', pg_typeof(info->'items'->'qty')\u001b[0m\n\u001b[0m           ^\u001b[0m\n\u001b[0;31mSyntaxError\u001b[0m\u001b[0;31m:\u001b[0m invalid syntax\n"
          ]
        }
      ]
    },
    {
      "cell_type": "markdown",
      "source": [
        "### **представления / материализованные представления**"
      ],
      "metadata": {
        "id": "kMMPnK7KNa5f"
      }
    },
    {
      "cell_type": "code",
      "source": [
        "обычное представление не хранит в себе данных\n",
        "\n",
        "---------------------------------------------------\n",
        "\n",
        "CREATE VIEW myview AS SELECT * FROM mytab;\n",
        "\n",
        "SELECT * FROM mymatview\n",
        "---------------------------------------------------\n",
        "\n",
        "CREATE MATERIALIZED VIEW mymatview AS SELECT * FROM mytab;\n",
        "\n",
        "REFRESH MATERIALIZED VIEW mymatview;\n",
        "\n",
        "SELECT * FROM mymatview"
      ],
      "metadata": {
        "id": "tgP2SBWzNev3"
      },
      "execution_count": null,
      "outputs": []
    },
    {
      "cell_type": "markdown",
      "source": [
        "### **cte**"
      ],
      "metadata": {
        "id": "QbVIdnfLE2_k"
      }
    },
    {
      "cell_type": "code",
      "source": [
        "with название_cte (\n",
        "\tлогика)\n",
        "select\n",
        "from ...\n",
        "join название_cte"
      ],
      "metadata": {
        "id": "BF4j-WJyO_Gm"
      },
      "execution_count": null,
      "outputs": []
    },
    {
      "cell_type": "markdown",
      "source": [
        "### **Создание таблиц**"
      ],
      "metadata": {
        "id": "YfzmytFVOHWw"
      }
    },
    {
      "cell_type": "code",
      "source": [
        "\n",
        " https://dbdiagram.io/, https://sqldbm.com, https://pgmodeler.io\n",
        "\n",
        " create table author (\n",
        "\tauthor_id serial primary key,\n",
        "\tauthor_name varchar(100) not null,\n",
        "\tnick_name varchar (30),\n",
        "\tborn_date date not null check(date_part('year', born_date) >= 1800 and date_part('year', age(born_date)) >= 18),\n",
        "\tcity_id int2 not null references city(city_id),\n",
        "\t--language_id int2 not null references language(language_id),\n",
        "\tcreated_at timestamp not null default now(),\n",
        "\tcreated_user varchar(64) not null default current_user,\n",
        "\tdeleted boolean not null default false)\n",
        "\n",
        "uuid\n",
        "\n",
        "create extension \"uuid-ossp\"\n",
        "\n",
        "create table a (\n",
        "\tid uuid default uuid_generate_v4() primary key,\n",
        "\tval text)\n",
        "\n",
        "\n",
        "-- если два первичных ключа\n",
        "\n",
        "create table author_language (\n",
        "\tauthor_id int references author(author_id),\n",
        "\tlanguage_id int2 references language(language_id),\n",
        "\tprimary key (author_id, language_id))\n",
        "\n",
        "-- первичный и вторичные ключи\n",
        "\n",
        "create table contact( --список контактов контрагентов\n",
        "\tid uuid not null default uuid_generate_v1mc (),\n",
        "\tlast_name varchar(20), --фамилия контакта\n",
        "\tfirst_name varchar(20), --имя контакта\n",
        "\taccount_id uuid not null,--id контрагента\n",
        "\tPRIMARY KEY (id),\n",
        "\tFOREIGN KEY (account_id) REFERENCES account(id)\n",
        ")"
      ],
      "metadata": {
        "id": "rKDE8U_bPVcY"
      },
      "execution_count": null,
      "outputs": []
    },
    {
      "cell_type": "markdown",
      "source": [
        "### **join**"
      ],
      "metadata": {
        "id": "9HJYkIsQOHUZ"
      }
    },
    {
      "cell_type": "code",
      "source": [
        "--left, right, inner, full, cross\n",
        "\n",
        "INNER JOIN (JOIN) — каждая строка из первой (левой) таблицы, сопоставляется с каждой строкой из второй (правой) таблицы,\n",
        "после чего, происходит проверка условия.\n",
        "\n",
        "LEFT JOIN (LEFT OUTER JOIN) — важен порядок следования таблиц. Сначала происходит формирование таблицы соединением INNER JOIN.\n",
        "Затем, в результат добавляются записи левой таблицы, не вошедшие в результат после INNER JOIN.\n",
        "Для них, соответствующие записи из правой таблицы заполняются значениями NULL.\n",
        "\n",
        "RIGHT JOIN (RIGHT OUTER JOIN) — важен порядок следования таблиц. Аналогично LEFT JOIN, но во главе вторая таблица.\n",
        "Сначала происходит формирование таблицы соединением INNER JOIN.\n",
        "\n",
        "Затем, в результат добавляются записи правой таблицы, не вошедшие в результат после INNER JOIN. Для них, соответствующие записи из левой таблицы заполняются значениями NULL.\n",
        "FULL JOIN (FULL OUTER JOIN) — оператор FULL JOIN можно воспринимать как сочетание операторов INNER JOIN + LEFT JOIN + RIGHT JOIN.\n",
        "Сначала происходит формирование таблицы соединением INNER JOIN.\n",
        "Затем, в результат добавляются записи левой таблицы, не вошедшие прежде в результат.\n",
        "Для них, соответствующие записи из правой таблицы заполняются значениями NULL.\n",
        "Наконец, в таблицу добавляются значения не вошедшие в результат формирования из правой таблицы.\n",
        "Для них, соответствующие записи из левой таблицы заполняются значениями NULL.\n",
        "\n",
        "CROSS JOIN — каждая строка левой таблицы сопоставляется с каждой строкой правой таблицы.\n",
        "В результате получается таблица со всеми возможными сочетаниями строк обеих таблиц (декартово произведение).\n"
      ],
      "metadata": {
        "id": "mMHdVkwCRIUb"
      },
      "execution_count": null,
      "outputs": []
    },
    {
      "cell_type": "markdown",
      "source": [
        "### **date_part / date_trunc**"
      ],
      "metadata": {
        "id": "jzrXzKYsVUsR"
      }
    },
    {
      "cell_type": "code",
      "source": [
        "SELECT date_part('hour',TIMESTAMP '2017-03-18 10:20:30') h,\n",
        "       date_part('minute',TIMESTAMP '2017-03-18 10:20:30') m,\n",
        "       date_part('second',TIMESTAMP '2017-03-18 10:20:30') s;\n",
        "10\n",
        "20\n",
        "30\n",
        "\n",
        "SELECT DATE_TRUNC('hour', TIMESTAMP '2020-03-17 02:09:30');\n",
        "--'2020-03-17 02:00:00'\n"
      ],
      "metadata": {
        "id": "EeL3KgxBVXYU"
      },
      "execution_count": null,
      "outputs": []
    },
    {
      "cell_type": "markdown",
      "source": [
        "## **lag/lead**"
      ],
      "metadata": {
        "id": "2Xrh6seAVy12"
      }
    },
    {
      "cell_type": "code",
      "source": [
        "SELECT  code,\n",
        "LAG(code) OVER(ORDER BY code) prev_code,\n",
        "LEAD(code) OVER(ORDER BY code) next_code\n",
        "\n",
        "1 - 2\n",
        "2 1 3\n",
        "3 2 4\n",
        "4 3 -\n",
        "\n",
        "-lag следующее значение\n",
        "-lead предыдущее"
      ],
      "metadata": {
        "id": "aes9kthDV0lj"
      },
      "execution_count": null,
      "outputs": []
    },
    {
      "cell_type": "markdown",
      "source": [
        "## **полезное**"
      ],
      "metadata": {
        "id": "FpvzpWRsOHLG"
      }
    },
    {
      "cell_type": "code",
      "source": [
        "https://letsdocode.ru/sql-materials/info.php\n",
        "https://letsdocode.ru/sql-main/info"
      ],
      "metadata": {
        "id": "ueGSAeqoOKB3"
      },
      "execution_count": null,
      "outputs": []
    }
  ]
}